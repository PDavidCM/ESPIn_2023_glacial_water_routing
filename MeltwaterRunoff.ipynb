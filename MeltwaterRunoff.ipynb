{
 "cells": [
  {
   "cell_type": "markdown",
   "id": "a6fb092c-72c0-4fe0-a50a-46d83d1a3d74",
   "metadata": {},
   "source": [
    "# Glacier Meltwater Runoff model\n",
    "This notebook walks through modelling how meltwater will flow over a glacier and how it will change with different meltwater production."
   ]
  },
  {
   "cell_type": "code",
   "execution_count": 1,
   "id": "945c5036-173e-471d-bd06-cf7adc59f09b",
   "metadata": {},
   "outputs": [],
   "source": [
    "from landlab.components import FlowDirectorD8, FlowAccumulator, SinkFillerBarnes\n",
    "from landlab import RasterModelGrid\n",
    "import matplotlib.pyplot as plt\n",
    "import numpy as np"
   ]
  },
  {
   "cell_type": "markdown",
   "id": "d9c11645-f9b2-4f36-b552-b55f11501c23",
   "metadata": {},
   "source": [
    "## Create Landlab Raster and load in DEM"
   ]
  },
  {
   "cell_type": "code",
   "execution_count": null,
   "id": "66e032ac-e40f-435e-bfc5-ea4e84c4f953",
   "metadata": {},
   "outputs": [],
   "source": []
  }
 ],
 "metadata": {
  "kernelspec": {
   "display_name": "CSDMS",
   "language": "python",
   "name": "csdms-2023"
  },
  "language_info": {
   "codemirror_mode": {
    "name": "ipython",
    "version": 3
   },
   "file_extension": ".py",
   "mimetype": "text/x-python",
   "name": "python",
   "nbconvert_exporter": "python",
   "pygments_lexer": "ipython3",
   "version": "3.9.16"
  }
 },
 "nbformat": 4,
 "nbformat_minor": 5
}
