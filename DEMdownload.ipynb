{
 "cells": [
  {
   "cell_type": "code",
   "execution_count": null,
   "id": "cd8144df-6611-4501-9ec6-392a9657d6cd",
   "metadata": {},
   "outputs": [],
   "source": [
    "## Importing libraries, classes, and functions\n",
    "\n",
    "from bmi_topography import Topography\n",
    "import matplotlib\n",
    "import numpy as numpy\n",
    "from landlab import RasterModelGrid\n",
    "from landlab.components import  (\n",
    "    DepressionFinderAndRouter,\n",
    "    FlowAccumulator,\n",
    "    FlowDirectorD8, FlowDirectorMFD,\n",
    "    FlowDirectorSteepest,\n",
    ")\n",
    "from landlab.plot.drainage_plot import drainage_plot\n",
    "import matplotlib.pyplot as plt\n",
    "from matplotlib import cm\n",
    "def surf_plot(mg, surface=\"topographic__elevation\", title=\"Surface plot of topography\"):\n",
    "    plt.figure()\n",
    "    ax = plt.axes(projection=\"3d\")\n",
    "\n",
    "    # Plot the surface.\n",
    "    Z = mg.at_node[surface].reshape(mg.shape)\n",
    "    color = cm.gray((Z - Z.min()) / (Z.max() - Z.min()))\n",
    "    ax.plot_surface(\n",
    "        mg.x_of_node.reshape(mg.shape),\n",
    "        mg.y_of_node.reshape(mg.shape),\n",
    "        Z,\n",
    "        rstride=1,\n",
    "        cstride=1,\n",
    "        facecolors=color,\n",
    "        linewidth=0.0,\n",
    "        antialiased=False,\n",
    "    )"
   ]
  },
  {
   "cell_type": "code",
   "execution_count": null,
   "id": "5b4793f3-1da8-4320-9629-984225838b0a",
   "metadata": {},
   "outputs": [],
   "source": [
    "#help(Topography)"
   ]
  },
  {
   "cell_type": "code",
   "execution_count": null,
   "id": "deb8bf1a-e236-4159-8b16-5cdf2a31a468",
   "metadata": {},
   "outputs": [],
   "source": [
    "# Defininf raster bounds\n",
    "topo = Topography(\n",
    "    dem_type=\"SRTMGL1\",\n",
    "    south=-1.540602,\n",
    "    north=-1.424255,\n",
    "    west=-78.9056896,\n",
    "    east=-78.753253,\n",
    "    output_format=\"GTiff\",\n",
    "    cache_dir=\".\"\n",
    ")"
   ]
  },
  {
   "cell_type": "code",
   "execution_count": null,
   "id": "6d072f16-265a-4570-ac91-d4910a898341",
   "metadata": {},
   "outputs": [],
   "source": [
    "# Clipping the raster online\n",
    "fname = topo.fetch()\n",
    "print(fname)"
   ]
  },
  {
   "cell_type": "code",
   "execution_count": null,
   "id": "dde3127a-d72a-4db8-9ad1-df6caf7ef894",
   "metadata": {},
   "outputs": [],
   "source": [
    "# Downloading it to the console\n",
    "da = topo.load()\n",
    "print(da)"
   ]
  },
  {
   "cell_type": "code",
   "execution_count": null,
   "id": "19b94380-b3f9-4bdd-9a7e-76ba58eba3ac",
   "metadata": {},
   "outputs": [],
   "source": [
    "# Plot DEM with coordinates\n",
    "da.plot()"
   ]
  },
  {
   "cell_type": "code",
   "execution_count": null,
   "id": "2ec617ef-e5b9-4334-be67-36579d174449",
   "metadata": {},
   "outputs": [],
   "source": [
    "# Creater grid for flow direction\n",
    "mg = RasterModelGrid((da.shape[1:3]),xy_spacing=(30,30)) # dimensions m^2\n",
    "mg.set_closed_boundaries_at_grid_edges(True, True, True, False)\n",
    "da = da.astype(numpy.float64) # type casting to float64, float32 will not work\n",
    "mg.add_field(\"topographic__elevation\", numpy.flip(da,1), at=\"node\"); # don't forget to flip image, because of ASCII indeces"
   ]
  },
  {
   "cell_type": "code",
   "execution_count": null,
   "id": "60a6aa48-c43f-4172-9195-1fedcdf9e931",
   "metadata": {},
   "outputs": [],
   "source": [
    "# Plot grid in 3D figure\n",
    "surf_plot(mg, title=\"Elevation [masl]\")"
   ]
  },
  {
   "cell_type": "code",
   "execution_count": null,
   "id": "d1897720-6297-4836-9597-c27ae07434a2",
   "metadata": {},
   "outputs": [],
   "source": [
    "# Plot grind in 2D figure\n",
    "mg.imshow(\"topographic__elevation\")"
   ]
  },
  {
   "cell_type": "code",
   "execution_count": null,
   "id": "d672f843-8a08-47c9-a083-429d288d4fb4",
   "metadata": {},
   "outputs": [],
   "source": [
    "fdMFD = FlowDirectorMFD(mg, diagonal = False)\n",
    "for _ in range(200):\n",
    "    fdMFD.run_one_step()"
   ]
  },
  {
   "cell_type": "code",
   "execution_count": null,
   "id": "f441de4f-3ed4-430c-bb66-80d70d01dd56",
   "metadata": {},
   "outputs": [],
   "source": [
    "plt.figure()\n",
    "drainage_plot(mg,title=\"Flow Director MFD\")"
   ]
  },
  {
   "cell_type": "code",
   "execution_count": null,
   "id": "b017e691-5802-4971-a61a-a74106432652",
   "metadata": {},
   "outputs": [],
   "source": [
    "# Creater grid for flow direction\n",
    "mg2 = RasterModelGrid((da.shape[1:3]),xy_spacing=(30,30)) # dimensions m^2\n",
    "mg2.set_closed_boundaries_at_grid_edges(True, True, True, False)\n",
    "mg2.add_field(\"topographic__elevation\", numpy.flip(da,1), at=\"node\"); # don't forget to flip image, because of ASCII indeces"
   ]
  },
  {
   "cell_type": "code",
   "execution_count": null,
   "id": "7a10565f-7a1b-4fcc-a3f7-b647c35a950e",
   "metadata": {},
   "outputs": [],
   "source": [
    "fdSteep = FlowDirectorSteepest(mg2)\n",
    "for _ in range(200):\n",
    "    fdSteep.run_one_step()\n",
    "plt.figure()\n",
    "drainage_plot(mg2,title=\"Flow Director Steepest\")"
   ]
  },
  {
   "cell_type": "code",
   "execution_count": null,
   "id": "824fb598-46c4-4305-af23-1cfa76d6fb29",
   "metadata": {},
   "outputs": [],
   "source": [
    "# Creater grid for flow direction\n",
    "mg3 = RasterModelGrid((da.shape[1:3]),xy_spacing=(30,30)) # dimensions m^2\n",
    "mg3.set_closed_boundaries_at_grid_edges(True, True, True, False)\n",
    "mg3.add_field(\"topographic__elevation\", numpy.flip(da,1), at=\"node\"); # don't forget to flip image, because of ASCII indeces"
   ]
  },
  {
   "cell_type": "code",
   "execution_count": null,
   "id": "177d13cb-0b30-4d7c-bbe5-13c7fb50fd81",
   "metadata": {},
   "outputs": [],
   "source": [
    "fdD8 = FlowDirectorD8(mg3)\n",
    "for _ in range(200):\n",
    "    fdD8.run_one_step()\n",
    "plt.figure()\n",
    "drainage_plot(mg3,title=\"Flow Director D8\")"
   ]
  }
 ],
 "metadata": {
  "kernelspec": {
   "display_name": "Ivy",
   "language": "python",
   "name": "ivy"
  },
  "language_info": {
   "codemirror_mode": {
    "name": "ipython",
    "version": 3
   },
   "file_extension": ".py",
   "mimetype": "text/x-python",
   "name": "python",
   "nbconvert_exporter": "python",
   "pygments_lexer": "ipython3",
   "version": "3.11.0"
  }
 },
 "nbformat": 4,
 "nbformat_minor": 5
}
